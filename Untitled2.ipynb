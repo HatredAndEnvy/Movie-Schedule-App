{
 "cells": [
  {
   "cell_type": "code",
   "execution_count": 8,
   "metadata": {},
   "outputs": [
    {
     "name": "stdout",
     "output_type": "stream",
     "text": [
      "AMC-Braintree10Aug292021\n",
      "AMC-Braintree10Aug292021\n",
      "First-Test\n",
      "GoldenCinemaLoc82Apr262021\n",
      "Second-Test\n"
     ]
    }
   ],
   "source": [
    "# Jerry Day\n",
    "\n",
    "import pandas as pd\n",
    "import os\n",
    "import re\n",
    "import moviemodel\n",
    "import datetime\n",
    "\n",
    "\n",
    "data_in_dirs = [f for f in os.scandir('DataIn') if f.is_dir() & (f.name != '.ipynb_checkpoints')]\n",
    "\n",
    "schedules_have = [f.name for f in os.scandir('Schedules') if f.is_file() & bool(re.search('.+\\.csv$',f.name))]\n",
    "\n",
    "for did in data_in_dirs:\n",
    "    print(did.name)\n",
    "    if did.name + \"_Schedule.csv\" not in schedules_have:\n",
    "        bob = pd.read_csv(did.path + \"/Theatre_Bookings.csv\"), \n",
    "        sue = pd.read_csv( did.path + \"/Theatre_Details.csv\"),  \n",
    "        print(did.name)"
   ]
  },
  {
   "cell_type": "code",
   "execution_count": null,
   "metadata": {},
   "outputs": [],
   "source": []
  }
 ],
 "metadata": {
  "kernelspec": {
   "display_name": "Python 3",
   "language": "python",
   "name": "python3"
  },
  "language_info": {
   "codemirror_mode": {
    "name": "ipython",
    "version": 3
   },
   "file_extension": ".py",
   "mimetype": "text/x-python",
   "name": "python",
   "nbconvert_exporter": "python",
   "pygments_lexer": "ipython3",
   "version": "3.8.5"
  }
 },
 "nbformat": 4,
 "nbformat_minor": 4
}
