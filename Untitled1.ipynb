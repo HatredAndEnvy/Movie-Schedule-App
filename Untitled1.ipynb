{
 "cells": [
  {
   "cell_type": "code",
   "execution_count": 22,
   "metadata": {},
   "outputs": [
    {
     "ename": "AttributeError",
     "evalue": "'DataFrame' object has no attribute 'to_list'",
     "output_type": "error",
     "traceback": [
      "\u001b[1;31m---------------------------------------------------------------------------\u001b[0m",
      "\u001b[1;31mAttributeError\u001b[0m                            Traceback (most recent call last)",
      "\u001b[1;32m<ipython-input-22-c07ccfe34f7b>\u001b[0m in \u001b[0;36m<module>\u001b[1;34m\u001b[0m\n\u001b[0;32m     11\u001b[0m                      \u001b[0maxis\u001b[0m \u001b[1;33m=\u001b[0m \u001b[1;34m'columns'\u001b[0m\u001b[1;33m\u001b[0m\u001b[1;33m\u001b[0m\u001b[0m\n\u001b[0;32m     12\u001b[0m                     )[table_columns_list]\n\u001b[1;32m---> 13\u001b[1;33m \u001b[0mtable_formatted\u001b[0m \u001b[1;33m=\u001b[0m \u001b[0mtable_df\u001b[0m\u001b[1;33m.\u001b[0m\u001b[0mto_list\u001b[0m\u001b[1;33m(\u001b[0m\u001b[0morient\u001b[0m \u001b[1;33m=\u001b[0m \u001b[1;34m'index'\u001b[0m\u001b[1;33m)\u001b[0m\u001b[1;33m\u001b[0m\u001b[1;33m\u001b[0m\u001b[0m\n\u001b[0m",
      "\u001b[1;32m~\\anaconda3\\lib\\site-packages\\pandas\\core\\generic.py\u001b[0m in \u001b[0;36m__getattr__\u001b[1;34m(self, name)\u001b[0m\n\u001b[0;32m   5137\u001b[0m             \u001b[1;32mif\u001b[0m \u001b[0mself\u001b[0m\u001b[1;33m.\u001b[0m\u001b[0m_info_axis\u001b[0m\u001b[1;33m.\u001b[0m\u001b[0m_can_hold_identifiers_and_holds_name\u001b[0m\u001b[1;33m(\u001b[0m\u001b[0mname\u001b[0m\u001b[1;33m)\u001b[0m\u001b[1;33m:\u001b[0m\u001b[1;33m\u001b[0m\u001b[1;33m\u001b[0m\u001b[0m\n\u001b[0;32m   5138\u001b[0m                 \u001b[1;32mreturn\u001b[0m \u001b[0mself\u001b[0m\u001b[1;33m[\u001b[0m\u001b[0mname\u001b[0m\u001b[1;33m]\u001b[0m\u001b[1;33m\u001b[0m\u001b[1;33m\u001b[0m\u001b[0m\n\u001b[1;32m-> 5139\u001b[1;33m             \u001b[1;32mreturn\u001b[0m \u001b[0mobject\u001b[0m\u001b[1;33m.\u001b[0m\u001b[0m__getattribute__\u001b[0m\u001b[1;33m(\u001b[0m\u001b[0mself\u001b[0m\u001b[1;33m,\u001b[0m \u001b[0mname\u001b[0m\u001b[1;33m)\u001b[0m\u001b[1;33m\u001b[0m\u001b[1;33m\u001b[0m\u001b[0m\n\u001b[0m\u001b[0;32m   5140\u001b[0m \u001b[1;33m\u001b[0m\u001b[0m\n\u001b[0;32m   5141\u001b[0m     \u001b[1;32mdef\u001b[0m \u001b[0m__setattr__\u001b[0m\u001b[1;33m(\u001b[0m\u001b[0mself\u001b[0m\u001b[1;33m,\u001b[0m \u001b[0mname\u001b[0m\u001b[1;33m:\u001b[0m \u001b[0mstr\u001b[0m\u001b[1;33m,\u001b[0m \u001b[0mvalue\u001b[0m\u001b[1;33m)\u001b[0m \u001b[1;33m->\u001b[0m \u001b[1;32mNone\u001b[0m\u001b[1;33m:\u001b[0m\u001b[1;33m\u001b[0m\u001b[1;33m\u001b[0m\u001b[0m\n",
      "\u001b[1;31mAttributeError\u001b[0m: 'DataFrame' object has no attribute 'to_list'"
     ]
    }
   ],
   "source": [
    "import pandas as pd\n",
    "\n",
    "f_path = 'Schedules\\\\GoldenCinemaLoc82Apr262021_Schedule.csv'\n",
    "df = pd.read_csv(f_path)\n",
    "df.startTimeDate = pd.to_datetime(df.startTimeDate)\n",
    "df.endTimeDate = pd.to_datetime(df.endTimeDate)\n",
    "\n",
    "table_columns = [{'name':c, 'id':c} for c in ['Movie', 'Theater', 'StartTime', 'EndTime', 'Minutes']]\n",
    "table_columns_list = [d['id'] for d in table_columns]\n",
    "table_df = df.rename(mapper = {'theatre' : 'Theater','startTimeDate' : 'StartTime','endTimeDate' : 'EndTime','movie' : 'Movie', 'timeUnit' : 'Minutes'}, \n",
    "                     axis = 'columns'\n",
    "                    )[table_columns_list]\n",
    "table_formatted = table_df.to_list(orient = 'index')"
   ]
  },
  {
   "cell_type": "code",
   "execution_count": 21,
   "metadata": {},
   "outputs": [
    {
     "name": "stdout",
     "output_type": "stream",
     "text": [
      "['Movie', 'Theater', 'StartTime', 'EndTime', 'Minutes']\n",
      "{0: {'Movie': ' Golden_Alpha ', 'Theater': 'bob', 'StartTime': Timestamp('2021-04-26 22:30:00'), 'EndTime': Timestamp('2021-04-27 00:07:00'), 'Minutes': 38}, 1: {'Movie': ' Golden_Alpha ', 'Theater': 'sue', 'StartTime': Timestamp('2021-04-26 19:45:00'), 'EndTime': Timestamp('2021-04-26 21:22:00'), 'Minutes': 27}, 2: {'Movie': ' Golden_Alpha ', 'Theater': 'doe', 'StartTime': Timestamp('2021-04-26 13:45:00'), 'EndTime': Timestamp('2021-04-26 15:22:00'), 'Minutes': 3}, 3: {'Movie': ' Golden_Alpha ', 'Theater': 'doe', 'StartTime': Timestamp('2021-04-26 16:30:00'), 'EndTime': Timestamp('2021-04-26 18:07:00'), 'Minutes': 14}, 4: {'Movie': ' Golden_Happytime Murd ', 'Theater': 'bob', 'StartTime': Timestamp('2021-04-26 15:45:00'), 'EndTime': Timestamp('2021-04-26 17:16:00'), 'Minutes': 11}, 5: {'Movie': ' Golden_Happytime Murd ', 'Theater': 'bob', 'StartTime': Timestamp('2021-04-26 19:15:00'), 'EndTime': Timestamp('2021-04-26 20:46:00'), 'Minutes': 25}, 6: {'Movie': ' Golden_Happytime Murd ', 'Theater': 'sue', 'StartTime': Timestamp('2021-04-26 14:15:00'), 'EndTime': Timestamp('2021-04-26 15:46:00'), 'Minutes': 5}, 7: {'Movie': ' Golden_Happytime Murd ', 'Theater': 'sue', 'StartTime': Timestamp('2021-04-26 17:00:00'), 'EndTime': Timestamp('2021-04-26 18:31:00'), 'Minutes': 16}, 8: {'Movie': ' Golden_Happytime Murd ', 'Theater': 'doe', 'StartTime': Timestamp('2021-04-26 22:00:00'), 'EndTime': Timestamp('2021-04-26 23:31:00'), 'Minutes': 36}, 9: {'Movie': ' Golden_Kin ', 'Theater': 'bob', 'StartTime': Timestamp('2021-04-26 13:00:00'), 'EndTime': Timestamp('2021-04-26 14:42:00'), 'Minutes': 0}, 10: {'Movie': ' Golden_Kin ', 'Theater': 'sue', 'StartTime': Timestamp('2021-04-26 22:30:00'), 'EndTime': Timestamp('2021-04-27 00:12:00'), 'Minutes': 38}, 11: {'Movie': ' Golden_Kin ', 'Theater': 'doe', 'StartTime': Timestamp('2021-04-26 19:15:00'), 'EndTime': Timestamp('2021-04-26 20:57:00'), 'Minutes': 25}}\n"
     ]
    },
    {
     "ename": "TypeError",
     "evalue": "'NoneType' object is not iterable",
     "output_type": "error",
     "traceback": [
      "\u001b[1;31m---------------------------------------------------------------------------\u001b[0m",
      "\u001b[1;31mTypeError\u001b[0m                                 Traceback (most recent call last)",
      "\u001b[1;32m<ipython-input-21-11efc7a5cd77>\u001b[0m in \u001b[0;36m<module>\u001b[1;34m\u001b[0m\n\u001b[0;32m      1\u001b[0m \u001b[0mprint\u001b[0m\u001b[1;33m(\u001b[0m\u001b[0mtable_columns_list\u001b[0m\u001b[1;33m)\u001b[0m\u001b[1;33m\u001b[0m\u001b[1;33m\u001b[0m\u001b[0m\n\u001b[1;32m----> 2\u001b[1;33m \u001b[0mlist\u001b[0m\u001b[1;33m(\u001b[0m\u001b[0mprint\u001b[0m\u001b[1;33m(\u001b[0m\u001b[0mtable_formatted\u001b[0m\u001b[1;33m)\u001b[0m\u001b[1;33m)\u001b[0m\u001b[1;33m\u001b[0m\u001b[1;33m\u001b[0m\u001b[0m\n\u001b[0m",
      "\u001b[1;31mTypeError\u001b[0m: 'NoneType' object is not iterable"
     ]
    }
   ],
   "source": [
    "print(table_columns_list)\n",
    "list(print(table_formatted))"
   ]
  },
  {
   "cell_type": "code",
   "execution_count": null,
   "metadata": {},
   "outputs": [],
   "source": []
  }
 ],
 "metadata": {
  "kernelspec": {
   "display_name": "Python 3",
   "language": "python",
   "name": "python3"
  },
  "language_info": {
   "codemirror_mode": {
    "name": "ipython",
    "version": 3
   },
   "file_extension": ".py",
   "mimetype": "text/x-python",
   "name": "python",
   "nbconvert_exporter": "python",
   "pygments_lexer": "ipython3",
   "version": "3.8.5"
  }
 },
 "nbformat": 4,
 "nbformat_minor": 4
}
